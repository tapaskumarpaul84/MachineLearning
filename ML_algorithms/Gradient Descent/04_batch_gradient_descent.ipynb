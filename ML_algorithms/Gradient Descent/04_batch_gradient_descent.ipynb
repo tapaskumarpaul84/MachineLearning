{
 "cells": [
  {
   "cell_type": "code",
   "execution_count": 1,
   "id": "9af36e35",
   "metadata": {},
   "outputs": [
    {
     "name": "stdout",
     "output_type": "stream",
     "text": [
      "all ok\n"
     ]
    }
   ],
   "source": [
    "print(\"all ok\")"
   ]
  },
  {
   "cell_type": "code",
   "execution_count": 3,
   "id": "afbb9dc5",
   "metadata": {},
   "outputs": [],
   "source": [
    "from json import load\n",
    "import numpy as np\n",
    "from sklearn.datasets import load_diabetes\n",
    "from sklearn.model_selection import train_test_split\n",
    "from sklearn.linear_model import LinearRegression\n",
    "from sklearn.metrics import r2_score\n",
    "\n",
    "x,y=load_diabetes(return_X_y=True)"
   ]
  },
  {
   "cell_type": "code",
   "execution_count": 4,
   "id": "b496a48f",
   "metadata": {},
   "outputs": [
    {
     "data": {
      "text/plain": [
       "(442, 10)"
      ]
     },
     "execution_count": 4,
     "metadata": {},
     "output_type": "execute_result"
    }
   ],
   "source": [
    "x.shape"
   ]
  },
  {
   "cell_type": "code",
   "execution_count": 5,
   "id": "6c937638",
   "metadata": {},
   "outputs": [
    {
     "data": {
      "text/plain": [
       "(442,)"
      ]
     },
     "execution_count": 5,
     "metadata": {},
     "output_type": "execute_result"
    }
   ],
   "source": [
    "y.shape"
   ]
  },
  {
   "cell_type": "code",
   "execution_count": 6,
   "id": "70f34ab2",
   "metadata": {},
   "outputs": [],
   "source": [
    "x_train,x_test,y_train,y_test=train_test_split(x,y,test_size=0.2,random_state=13)"
   ]
  },
  {
   "cell_type": "code",
   "execution_count": 8,
   "id": "1cf2b1e8",
   "metadata": {},
   "outputs": [
    {
     "name": "stdout",
     "output_type": "stream",
     "text": [
      "r2 score:  0.3670103737004128\n"
     ]
    }
   ],
   "source": [
    "ler=LinearRegression()\n",
    "ler.fit(x_train,y_train)\n",
    "\n",
    "y_pred=ler.predict(x_test)\n",
    "\n",
    "print(\"r2 score: \",r2_score(y_test,y_pred))"
   ]
  },
  {
   "cell_type": "code",
   "execution_count": 9,
   "id": "86a1b80a",
   "metadata": {},
   "outputs": [
    {
     "data": {
      "text/plain": [
       "array([ -17.28691266, -248.0885923 ,  578.27946674,  315.72999856,\n",
       "       -571.32572115,  292.43070367,  -17.46493017,  120.18338433,\n",
       "        695.01416778,  108.05301725])"
      ]
     },
     "execution_count": 9,
     "metadata": {},
     "output_type": "execute_result"
    }
   ],
   "source": [
    "ler.coef_"
   ]
  },
  {
   "cell_type": "code",
   "execution_count": 10,
   "id": "3921a086",
   "metadata": {},
   "outputs": [
    {
     "data": {
      "text/plain": [
       "np.float64(150.2336766764973)"
      ]
     },
     "execution_count": 10,
     "metadata": {},
     "output_type": "execute_result"
    }
   ],
   "source": [
    "ler.intercept_"
   ]
  },
  {
   "cell_type": "markdown",
   "id": "d34a795a",
   "metadata": {},
   "source": [
    "### Gradient Descent algorithm building"
   ]
  },
  {
   "cell_type": "code",
   "execution_count": 11,
   "id": "ed4bc523",
   "metadata": {},
   "outputs": [],
   "source": [
    "class MyGDRegressor:\n",
    "    def __init__(self,learning_rate=0.01,epochs=100):\n",
    "        self.coef_=None\n",
    "        self.intersept_ = None\n",
    "        self.lr=learning_rate\n",
    "        self.epochs=epochs\n",
    "\n",
    "    def fit(self,x_train,y_train):\n",
    "        # initialize the intercept and coefs\n",
    "        self.intersept_=0\n",
    "        self.coef_=np.ones(x_train.shape[1])\n",
    "\n",
    "        # update intercept and all coef in loop\n",
    "        for i in range(self.epochs):\n",
    "            y_hat=np.dot(x_train,self.coef_) + self.intersept_\n",
    "            intercept_der=- 2 * np.mean(y_train - y_hat)\n",
    "            self.intersept_=self.intersept_ - (self.lr * intercept_der)\n",
    "\n",
    "            coef_der= -2 * np.dot((y_train - y_hat), x_train)/x_train.shape[0]\n",
    "            self.coef_=self.coef_ - (self.lr * coef_der)\n",
    "        print(self.coef_)\n",
    "        print(self.intersept_)\n",
    "    def predict(self,x_test):\n",
    "        return np.dot(x_test , self.coef_) + self.intersept_"
   ]
  },
  {
   "cell_type": "code",
   "execution_count": 40,
   "id": "1106f2d6",
   "metadata": {},
   "outputs": [],
   "source": [
    "gd=MyGDRegressor(learning_rate=0.9,epochs=500)"
   ]
  },
  {
   "cell_type": "code",
   "execution_count": 41,
   "id": "d887fe52",
   "metadata": {},
   "outputs": [
    {
     "name": "stdout",
     "output_type": "stream",
     "text": [
      "[  -1.41122876 -197.27053104  528.76504906  306.61112266  -37.06573211\n",
      " -104.15011252 -210.43498071  127.34028325  397.52919609  154.70548659]\n",
      "150.27311299797668\n"
     ]
    }
   ],
   "source": [
    "gd.fit(x_train,y_train)"
   ]
  },
  {
   "cell_type": "code",
   "execution_count": 42,
   "id": "03b86e05",
   "metadata": {},
   "outputs": [],
   "source": [
    "y_pred=gd.predict(x_test)"
   ]
  },
  {
   "cell_type": "code",
   "execution_count": 43,
   "id": "ea8187a2",
   "metadata": {},
   "outputs": [
    {
     "data": {
      "text/plain": [
       "0.3719041428162432"
      ]
     },
     "execution_count": 43,
     "metadata": {},
     "output_type": "execute_result"
    }
   ],
   "source": [
    "r2_score(y_test,y_pred)"
   ]
  },
  {
   "cell_type": "code",
   "execution_count": null,
   "id": "52de2275",
   "metadata": {},
   "outputs": [],
   "source": []
  }
 ],
 "metadata": {
  "kernelspec": {
   "display_name": "ml_venv",
   "language": "python",
   "name": "python3"
  },
  "language_info": {
   "codemirror_mode": {
    "name": "ipython",
    "version": 3
   },
   "file_extension": ".py",
   "mimetype": "text/x-python",
   "name": "python",
   "nbconvert_exporter": "python",
   "pygments_lexer": "ipython3",
   "version": "3.10.18"
  }
 },
 "nbformat": 4,
 "nbformat_minor": 5
}
