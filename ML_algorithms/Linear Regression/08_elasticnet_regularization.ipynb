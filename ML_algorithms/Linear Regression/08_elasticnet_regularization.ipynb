{
 "cells": [
  {
   "cell_type": "code",
   "execution_count": 1,
   "id": "e369f35b",
   "metadata": {},
   "outputs": [
    {
     "name": "stdout",
     "output_type": "stream",
     "text": [
      "all ok\n"
     ]
    }
   ],
   "source": [
    "print(\"all ok\")"
   ]
  },
  {
   "cell_type": "code",
   "execution_count": 2,
   "id": "04a6f3c8",
   "metadata": {},
   "outputs": [],
   "source": [
    "from sklearn.datasets import load_diabetes\n",
    "from sklearn.linear_model import LinearRegression, SGDRegressor, Ridge, Lasso, ElasticNet\n",
    "from sklearn.model_selection import train_test_split\n",
    "\n",
    "from sklearn.metrics import r2_score"
   ]
  },
  {
   "cell_type": "code",
   "execution_count": 3,
   "id": "dc9ca65a",
   "metadata": {},
   "outputs": [],
   "source": [
    "x,y=load_diabetes(return_X_y=True)"
   ]
  },
  {
   "cell_type": "code",
   "execution_count": 4,
   "id": "3f85b11a",
   "metadata": {},
   "outputs": [],
   "source": [
    "x_train,x_test,y_train,y_test=train_test_split(x,y,test_size=0.2,random_state=2)"
   ]
  },
  {
   "cell_type": "code",
   "execution_count": 5,
   "id": "d1eac91f",
   "metadata": {},
   "outputs": [
    {
     "name": "stdout",
     "output_type": "stream",
     "text": [
      "R2 score= 0.4399338661568968\n",
      "Coefs=  [  -9.15865318 -205.45432163  516.69374454  340.61999905 -895.5520019\n",
      "  561.22067904  153.89310954  126.73139688  861.12700152   52.42112238]\n",
      "Intercept= 151.88331005254167\n"
     ]
    }
   ],
   "source": [
    "## Linear Regression\n",
    "\n",
    "lin_model=LinearRegression()\n",
    "lin_model.fit(x_train,y_train)\n",
    "y_pred_lin=lin_model.predict(x_test)\n",
    "print(\"R2 score=\",r2_score(y_test,y_pred_lin))\n",
    "print(\"Coefs= \",lin_model.coef_)\n",
    "print(\"Intercept=\",lin_model.intercept_)"
   ]
  },
  {
   "cell_type": "code",
   "execution_count": 7,
   "id": "349ab5c5",
   "metadata": {},
   "outputs": [
    {
     "name": "stdout",
     "output_type": "stream",
     "text": [
      "R2 score= 0.45199494197195456\n",
      "Coefs=  [   6.64373321 -172.23747375  485.52958514  314.67584612  -72.94020918\n",
      "  -80.58868817 -174.46352722   83.61470987  484.36531622   73.58509056]\n",
      "Intercept= 151.92546856900984\n"
     ]
    }
   ],
   "source": [
    "## Ridge Regression\n",
    "\n",
    "rid_model=Ridge(alpha=0.1)\n",
    "rid_model.fit(x_train,y_train)\n",
    "y_pred_rid=rid_model.predict(x_test)\n",
    "print(\"R2 score=\",r2_score(y_test,y_pred_rid))\n",
    "print(\"Coefs= \",rid_model.coef_)\n",
    "print(\"Intercept=\",rid_model.intercept_)"
   ]
  },
  {
   "cell_type": "code",
   "execution_count": 9,
   "id": "376405b5",
   "metadata": {},
   "outputs": [
    {
     "name": "stdout",
     "output_type": "stream",
     "text": [
      "R2 score= 0.44111855963110613\n",
      "Coefs=  [  -1.35972089 -192.93718018  526.35651446  332.6411011  -430.22697505\n",
      "  191.29547987  -44.03491271   68.98898658  688.39602778   47.94061621]\n",
      "Intercept= 151.87686450031345\n"
     ]
    }
   ],
   "source": [
    "## Lasso Regression\n",
    "\n",
    "las_model=Lasso(alpha=0.01)\n",
    "las_model.fit(x_train,y_train)\n",
    "y_pred_las=las_model.predict(x_test)\n",
    "print(\"R2 score=\",r2_score(y_test,y_pred_las))\n",
    "print(\"Coefs= \",las_model.coef_)\n",
    "print(\"Intercept=\",las_model.intercept_)"
   ]
  },
  {
   "cell_type": "code",
   "execution_count": 10,
   "id": "6928cd1b",
   "metadata": {},
   "outputs": [
    {
     "name": "stdout",
     "output_type": "stream",
     "text": [
      "R2 score= 0.4531474541554823\n",
      "Coefs=  [  12.94146674 -150.63182716  454.70979985  297.41151019  -40.62996867\n",
      "  -82.61311124 -175.79746592   88.72693272  438.79775539   81.84968777]\n",
      "Intercept= 151.92650042509422\n"
     ]
    }
   ],
   "source": [
    "## ElasticNet Regression\n",
    "\n",
    "enm_model=ElasticNet(alpha=0.005,l1_ratio=0.9)\n",
    "enm_model.fit(x_train,y_train)\n",
    "y_pred_enm=enm_model.predict(x_test)\n",
    "print(\"R2 score=\",r2_score(y_test,y_pred_enm))\n",
    "print(\"Coefs= \",enm_model.coef_)\n",
    "print(\"Intercept=\",enm_model.intercept_)"
   ]
  },
  {
   "cell_type": "code",
   "execution_count": 16,
   "id": "9c654d34",
   "metadata": {},
   "outputs": [
    {
     "name": "stdout",
     "output_type": "stream",
     "text": [
      "R2 score= 0.3560662349436926\n",
      "Coefs=  [  51.77394256  -12.9432008   203.79345058  150.24053459   35.9935016\n",
      "   14.08643076 -113.97140182  101.93717527  191.31919228   96.71227217]\n",
      "Intercept= [151.70291917]\n"
     ]
    },
    {
     "name": "stderr",
     "output_type": "stream",
     "text": [
      "c:\\Users\\Hp\\miniconda3\\envs\\ml_venv\\lib\\site-packages\\sklearn\\linear_model\\_stochastic_gradient.py:1579: ConvergenceWarning: Maximum number of iteration reached before convergence. Consider increasing max_iter to improve the fit.\n",
      "  warnings.warn(\n"
     ]
    }
   ],
   "source": [
    "## SGD Regression\n",
    "\n",
    "sgd_model=SGDRegressor(penalty='elasticnet',alpha=0.01,l1_ratio=0.7,eta0=0.01) \n",
    "sgd_model.fit(x_train,y_train)\n",
    "y_pred_sgd=sgd_model.predict(x_test)\n",
    "print(\"R2 score=\",r2_score(y_test,y_pred_sgd))\n",
    "print(\"Coefs= \",sgd_model.coef_)\n",
    "print(\"Intercept=\",sgd_model.intercept_)"
   ]
  },
  {
   "cell_type": "code",
   "execution_count": null,
   "id": "f46a1f4d",
   "metadata": {},
   "outputs": [],
   "source": []
  }
 ],
 "metadata": {
  "kernelspec": {
   "display_name": "ml_venv",
   "language": "python",
   "name": "python3"
  },
  "language_info": {
   "codemirror_mode": {
    "name": "ipython",
    "version": 3
   },
   "file_extension": ".py",
   "mimetype": "text/x-python",
   "name": "python",
   "nbconvert_exporter": "python",
   "pygments_lexer": "ipython3",
   "version": "3.10.18"
  }
 },
 "nbformat": 4,
 "nbformat_minor": 5
}
